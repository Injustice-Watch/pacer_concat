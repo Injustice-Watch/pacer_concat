{
 "cells": [
  {
   "cell_type": "code",
   "execution_count": 8,
   "metadata": {
    "collapsed": false,
    "deletable": true,
    "editable": true
   },
   "outputs": [],
   "source": [
    "import os\n",
    "\n",
    "import pandas as pd\n",
    "import numpy as np\n",
    "import matplotlib.pyplot as plt\n",
    "import glob\n",
    "\n",
    "path = r'northern-il/csv'                     \n",
    "all_files = glob.glob(os.path.join(path, \"*.csv\"))     \n",
    "\n",
    "df_from_each_file = (pd.read_csv(f) for f in all_files)\n",
    "df = pd.concat(df_from_each_file, ignore_index=False, keys=all_files)\n",
    "\n",
    "df['party_start_date'] = pd.to_datetime(df['party_start_date'])\n",
    "\n",
    "df['cs_case_number'] = df['cs_case_number'].fillna(value='x')\n",
    "df = df[df['cs_case_number'] != 'x']\n",
    "\n",
    "df['district'] = 'Northern IL'\n",
    "\n",
    "df.to_csv('northern_il.csv')\n",
    "\n",
    "mask = (df['party_start_date']>'10/1/15') & (df['party_start_date']<'10/1/16')\n",
    "fy16 = df.loc[mask]\n",
    "\n",
    "fy16.to_csv('fy16.csv')"
   ]
  },
  {
   "cell_type": "code",
   "execution_count": 9,
   "metadata": {
    "collapsed": false,
    "deletable": true,
    "editable": true
   },
   "outputs": [],
   "source": [
    "path2 = r'eastern-mo/csv'                     \n",
    "all_files2 = glob.glob(os.path.join(path2, \"*.csv\"))     \n",
    "    \n",
    "df_from_each_file2 = (pd.read_csv(f) for f in all_files2)\n",
    "dfmo   = pd.concat(df_from_each_file2, ignore_index=False, keys=all_files2)\n",
    "\n",
    "dfmo['cs_case_number'] = dfmo['cs_case_number'].fillna(value='x')\n",
    "dfmo = dfmo[dfmo['cs_case_number'] != 'x']\n",
    "\n",
    "dfmo['district'] = 'Eastern MO'\n",
    "\n",
    "dfmo.to_csv('eastern-mo.csv')"
   ]
  },
  {
   "cell_type": "code",
   "execution_count": 10,
   "metadata": {
    "collapsed": false,
    "deletable": true,
    "editable": true
   },
   "outputs": [],
   "source": [
    "path3 = r'maryland/csv'                     \n",
    "all_files3 = glob.glob(os.path.join(path3, \"*.csv\"))\n",
    "   \n",
    "df_from_each_file3 = (pd.read_csv(f) for f in all_files3)\n",
    "dfma = pd.concat(df_from_each_file3, ignore_index=False, keys=all_files3)\n",
    "\n",
    "dfma['cs_case_number'] = dfma['cs_case_number'].fillna(value='x')\n",
    "dfma = dfma[dfma['cs_case_number'] != 'x']\n",
    "\n",
    "dfma['district'] = 'Maryland'\n",
    "\n",
    "dfma_flat = dfma.to_csv('maryland.csv')\n",
    "\n",
    "#dfma.head(5)"
   ]
  },
  {
   "cell_type": "code",
   "execution_count": 11,
   "metadata": {
    "collapsed": false,
    "deletable": true,
    "editable": true
   },
   "outputs": [],
   "source": [
    "mi_path = r'eastern-mi/csv'                     \n",
    "all_mi_files = glob.glob(os.path.join(mi_path, \"*.csv\"))\n",
    "   \n",
    "df_from_each_mi_file = (pd.read_csv(f) for f in all_mi_files)\n",
    "dfmi = pd.concat(df_from_each_mi_file, ignore_index=False, keys=all_mi_files)\n",
    "\n",
    "dfmi['cs_case_number'] = dfmi['cs_case_number'].fillna(value='x')\n",
    "dfmi = dfmi[dfmi['cs_case_number'] != 'x']\n",
    "\n",
    "dfmi['district'] = 'Eastern Michigan'\n",
    "\n",
    "dfmi_flat = dfmi.to_csv('eastern-mi.csv')"
   ]
  },
  {
   "cell_type": "code",
   "execution_count": 12,
   "metadata": {
    "collapsed": false,
    "deletable": true,
    "editable": true
   },
   "outputs": [],
   "source": [
    "tx_path = r'southern-tx/csv'\n",
    "all_tx_files = glob.glob(os.path.join(tx_path, '*.csv'))\n",
    "\n",
    "df_from_each_tx_file = (pd.read_csv(f) for f in all_tx_files)\n",
    "dftx = pd.concat(df_from_each_tx_file, ignore_index=False, keys=all_tx_files)\n",
    "\n",
    "dftx['cs_case_number'] = dftx['cs_case_number'].fillna(value='x')\n",
    "dftx = dftx[dftx['cs_case_number'] != 'x']\n",
    "\n",
    "dftx['district'] = 'Southern Texas'\n",
    "\n",
    "dftx_flat = dftx.to_csv('southern-tx.csv')"
   ]
  },
  {
   "cell_type": "code",
   "execution_count": 13,
   "metadata": {
    "collapsed": false,
    "deletable": true,
    "editable": true
   },
   "outputs": [],
   "source": [
    "pa_path = r'eastern-pa/csv'\n",
    "all_pa_files = glob.glob(os.path.join(pa_path, '*.csv'))\n",
    "\n",
    "df_from_each_pa_file = (pd.read_csv(f) for f in all_pa_files)\n",
    "dfpa = pd.concat(df_from_each_pa_file, ignore_index=False, keys=all_pa_files)\n",
    "\n",
    "dfpa['cs_case_number'] = dfpa['cs_case_number'].fillna(value='x')\n",
    "dfpa = dfpa[dfpa['cs_case_number'] != 'x']\n",
    "\n",
    "dfpa['district'] = 'Eastern Pennsylvania'\n",
    "\n",
    "dfpa_flat = dfpa.to_csv('eastern-pa.csv')"
   ]
  },
  {
   "cell_type": "code",
   "execution_count": 14,
   "metadata": {
    "collapsed": false,
    "deletable": true,
    "editable": true
   },
   "outputs": [
    {
     "name": "stdout",
     "output_type": "stream",
     "text": [
      "office_trans\n",
      "Allentown         106\n",
      "Ann Arbor          77\n",
      "Baltimore         553\n",
      "Bay City           24\n",
      "Brownsville        95\n",
      "Cape Girardeau    170\n",
      "Chicago           334\n",
      "Corpus Christi    121\n",
      "Detroit           638\n",
      "Flint             208\n",
      "Galveston          18\n",
      "Greenbelt         310\n",
      "Houston           365\n",
      "Laredo            175\n",
      "McAllen           212\n",
      "Philadelphia      376\n",
      "Rockford           75\n",
      "St. Louis         840\n",
      "Victoria           68\n",
      "Name: cs_case_number, dtype: int64\n"
     ]
    }
   ],
   "source": [
    "dftotal = pd.concat([df, dfmo, dfma, dfmi, dftx, dfpa])\n",
    "\n",
    "dftotal['party_start_date'] = pd.to_datetime(dftotal['party_start_date'])\n",
    "\n",
    "dftotal = dftotal[(dftotal['party_start_date']>'4/1/14')&(dftotal['party_start_date']<'4/1/17')]\n",
    "\n",
    "pivot = dftotal.pivot_table(values='cs_case_number',columns=['office_trans'],aggfunc='count')\n",
    "\n",
    "dftotal.to_csv('total.csv')\n",
    "\n",
    "print pivot\n"
   ]
  },
  {
   "cell_type": "code",
   "execution_count": null,
   "metadata": {
    "collapsed": true,
    "deletable": true,
    "editable": true
   },
   "outputs": [],
   "source": []
  }
 ],
 "metadata": {
  "kernelspec": {
   "display_name": "Python 2",
   "language": "python",
   "name": "python2"
  },
  "language_info": {
   "codemirror_mode": {
    "name": "ipython",
    "version": 2
   },
   "file_extension": ".py",
   "mimetype": "text/x-python",
   "name": "python",
   "nbconvert_exporter": "python",
   "pygments_lexer": "ipython2",
   "version": "2.7.5"
  }
 },
 "nbformat": 4,
 "nbformat_minor": 0
}
