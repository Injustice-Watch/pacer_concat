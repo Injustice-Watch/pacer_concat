{
 "cells": [
  {
   "cell_type": "code",
   "execution_count": 6,
   "metadata": {
    "collapsed": false,
    "deletable": true,
    "editable": true
   },
   "outputs": [],
   "source": [
    "import csv\n",
    "import glob\n",
    "import os\n",
    "import pandas as pd\n",
    "\n",
    "#convert files to csv\n",
    "\n",
    "txt_files = os.path.join('txt', '*.txt')\n",
    "output = 'output/individuals'\n",
    "\n",
    "for txt_file in glob.glob(txt_files):\n",
    "    with open(txt_file, 'rb') as input_file:\n",
    "        in_txt = csv.reader(input_file, delimiter='|')\n",
    "        filename = os.path.splitext(os.path.basename(txt_file))[0] + '.csv'\n",
    "        \n",
    "        with open(os.path.join(output, filename), 'wb') as output_file:\n",
    "            out_csv = csv.writer(output_file)\n",
    "            out_csv.writerows(in_txt)"
   ]
  },
  {
   "cell_type": "code",
   "execution_count": 7,
   "metadata": {
    "collapsed": false,
    "deletable": true,
    "editable": true
   },
   "outputs": [],
   "source": [
    "path = r'output/individuals'                     \n",
    "all_files = glob.glob(os.path.join(path, \"*.csv\"))     \n",
    "\n",
    "df_from_each_file = (pd.read_csv(f) for f in all_files)\n",
    "\n",
    "df = pd.concat(df_from_each_file, ignore_index=False, keys=all_files)\n",
    "\n",
    "df.to_csv('output/output.csv')"
   ]
  }
 ],
 "metadata": {
  "kernelspec": {
   "display_name": "Python 2",
   "language": "python",
   "name": "python2"
  },
  "language_info": {
   "codemirror_mode": {
    "name": "ipython",
    "version": 2
   },
   "file_extension": ".py",
   "mimetype": "text/x-python",
   "name": "python",
   "nbconvert_exporter": "python",
   "pygments_lexer": "ipython2",
   "version": "2.7.5"
  }
 },
 "nbformat": 4,
 "nbformat_minor": 0
}
